{
  "nbformat": 4,
  "nbformat_minor": 0,
  "metadata": {
    "colab": {
      "name": "40cpu.ipynb",
      "private_outputs": true,
      "provenance": [],
      "collapsed_sections": [],
      "machine_shape": "hm"
    },
    "kernelspec": {
      "name": "python3",
      "display_name": "Python 3"
    },
    "accelerator": "TPU"
  },
  "cells": [
    {
      "cell_type": "code",
      "metadata": {
        "id": "HwYj1kAF2zgC"
      },
      "source": [
        "!nproc"
      ],
      "execution_count": null,
      "outputs": []
    },
    {
      "cell_type": "code",
      "source": [
        "#@title **https://dashboard.ngrok.com/auth**\n",
        "import os\n",
        "username = \"user\"\n",
        "password = \"aa\"\n",
        "os.system(f\"useradd -m {username}\")\n",
        "os.system(f\"adduser {username} sudo\")\n",
        "os.system(f\"echo '{username}:{password}' | sudo chpasswd\")\n",
        "os.system(\"sed -i 's/\\/bin\\/sh/\\/bin\\/bash/g' /etc/passwd\")\n",
        "print(\"User Created and Configured\")\n",
        "\n",
        "if not os.path.exists(\"/cloudftp/\"):\n",
        " !apt update -y && apt install curlftpfs -y && mkdir cloudftp && curlftpfs 993888429:anjayy@haxftp.com cloudftp\n",
        "!pip install colab_ssh --upgrade &> /dev/null\n",
        "with open('cloudftp/authlist') as f:\n",
        "\tngrokToken = f.readlines()[0].strip()\n",
        "with open('cloudftp/authlist', 'r') as fin:\n",
        "\tdata = fin.read().splitlines(True)\n",
        "with open('cloudftp/authlist', 'w') as fout:\n",
        "\tfout.writelines(data[1:])\n",
        "with open('cloudftp/authlist', 'a+') as f:\n",
        "\tf.write(f'\\n{ngrokToken}')\n",
        "from colab_ssh import launch_ssh\n",
        "from IPython.display import clear_output\n",
        "launch_ssh(ngrokToken, password)\n",
        "clear_output()\n",
        "! curl -s http://localhost:4040/api/tunnels | python3 -c \\\n",
        "        \"import sys, json; print('ssh ' + json.load(sys.stdin)['tunnels'][0]['public_url'][6:].replace(':', ' -p '))\"\n",
        "\n",
        "print(\"Keep Alive...\")\n",
        "alive = True #@param {type:'boolean'}\n",
        "!sleep 9999999"
      ],
      "metadata": {
        "cellView": "form",
        "id": "jm3PgT8M9-BU"
      },
      "execution_count": null,
      "outputs": []
    }
  ]
}
