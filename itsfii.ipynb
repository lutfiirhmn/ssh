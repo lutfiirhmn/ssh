{
  "nbformat": 4,
  "nbformat_minor": 0,
  "metadata": {
    "colab": {
      "name": "itsfii.ipynb",
      "private_outputs": true,
      "provenance": [],
      "collapsed_sections": [],
      "machine_shape": "hm"
    },
    "kernelspec": {
      "name": "python3",
      "display_name": "Python 3"
    },
    "accelerator": "TPU"
  },
  "cells": [
    {
      "cell_type": "code",
      "metadata": {
        "id": "HwYj1kAF2zgC"
      },
      "source": [
        "!lscpu"
      ],
      "execution_count": null,
      "outputs": []
    },
    {
      "cell_type": "code",
      "source": [
        "#@title **STEP 1 CREATE USER**\n",
        "import os\n",
        "username = \"user\" #@param {type:\"string\"}\n",
        "password = \"aa\" #@param {type:\"string\"}\n",
        "os.system(f\"useradd -m {username}\")\n",
        "os.system(f\"adduser {username} sudo\")\n",
        "os.system(f\"echo '{username}:{password}' | sudo chpasswd\")\n",
        "os.system(\"sed -i 's/\\/bin\\/sh/\\/bin\\/bash/g' /etc/passwd\")\n",
        "print(\"User Created and Configured\")"
      ],
      "metadata": {
        "cellView": "form",
        "id": "zT5_yuO8l78l"
      },
      "execution_count": null,
      "outputs": []
    },
    {
      "cell_type": "code",
      "source": [
        "#@title **SSH**\n",
        "! pip install colab_ssh --upgrade &> /dev/null\n",
        "#@markdown https://dashboard.ngrok.com/auth\n",
        "ngrokToken = \"\" #@param {type:'string'}\n",
        "from colab_ssh import launch_ssh\n",
        "from IPython.display import clear_output\n",
        "launch_ssh(ngrokToken, password)\n",
        "clear_output()\n",
        "print(\"ssh\", username, end='@')\n",
        "! curl -s http://localhost:4040/api/tunnels | python3 -c \\\n",
        "        \"import sys, json; print(json.load(sys.stdin)['tunnels'][0]['public_url'][6:].replace(':', ' -p '))\""
      ],
      "metadata": {
        "cellView": "form",
        "id": "jiqqT9VxnNhg"
      },
      "execution_count": null,
      "outputs": []
    },
    {
      "cell_type": "code",
      "source": [
        "#@title **Make Alive** \n",
        "alive = True #@param {type:'boolean'}\n",
        "!sleep 432000"
      ],
      "metadata": {
        "cellView": "form",
        "id": "ial9zHNDn-0V"
      },
      "execution_count": null,
      "outputs": []
    }
  ]
}