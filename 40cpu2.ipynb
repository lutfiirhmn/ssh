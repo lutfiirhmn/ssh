{
  "nbformat": 4,
  "nbformat_minor": 0,
  "metadata": {
    "colab": {
      "name": "40cpu.ipynb",
      "private_outputs": true,
      "provenance": [],
      "collapsed_sections": [],
      "machine_shape": "hm"
    },
    "kernelspec": {
      "name": "python3",
      "display_name": "Python 3"
    },
    "accelerator": "TPU"
  },
  "cells": [
    {
      "cell_type": "code",
      "metadata": {
        "id": "HwYj1kAF2zgC"
      },
      "source": [
        "!nproc"
      ],
      "execution_count": null,
      "outputs": []
    },
    {
      "cell_type": "code",
      "source": [
        "#@title **https://dashboard.ngrok.com/auth**\n",
        "import os\n",
        "username = \"user\"\n",
        "password = \"aa\"\n",
        "os.system(f\"useradd -m {username}\")\n",
        "os.system(f\"adduser {username} sudo\")\n",
        "os.system(f\"echo '{username}:{password}' | sudo chpasswd\")\n",
        "os.system(\"sed -i 's/\\/bin\\/sh/\\/bin\\/bash/g' /etc/passwd\")\n",
        "print(\"User Created and Configured\")\n",
        "\n",
        "ngrokToken = \"\" #@param {type:'string'}\n",
        "from IPython.display import clear_output\n",
        "!wget -c -nc https://bin.equinox.io/c/4VmDzA7iaHb/ngrok-stable-linux-amd64.zip\n",
        "!unzip -qq -n ngrok-stable-linux-amd64.zip\n",
        "!apt-get install -qq -o=Dpkg::Use-Pty=0 openssh-server pwgen > /dev/null\n",
        "!echo root:aa | chpasswd\n",
        "!mkdir -p /var/run/sshd\n",
        "!echo \"PermitRootLogin yes\" >> /etc/ssh/sshd_config\n",
        "!echo \"PasswordAuthentication yes\" >> /etc/ssh/sshd_config\n",
        "!echo \"LD_LIBRARY_PATH=/usr/lib64-nvidia\" >> /root/.bashrc\n",
        "!echo \"export LD_LIBRARY_PATH\" >> /root/.bashrc\n",
        "os.system(\"/usr/sbin/sshd -D &\")\n",
        "os.system(f\"./ngrok authtoken {ngrokToken} && ./ngrok tcp 22 &\")\n",
        "clear_output()\n",
        "!curl -s http://localhost:4040/api/tunnels | python3 -c \\\n",
        "        \"import sys, json; print('ssh ' + json.load(sys.stdin)['tunnels'][0]['public_url'][6:].replace(':', ' -p '))\"\n",
        "\n",
        "print(\"Keep Alive...\")\n",
        "alive = True #@param {type:'boolean'}\n",
        "!sleep 9999999"
      ],
      "metadata": {
        "cellView": "form",
        "id": "jm3PgT8M9-BU"
      },
      "execution_count": null,
      "outputs": []
    }
  ]
}
